{
 "cells": [
  {
   "cell_type": "markdown",
   "id": "5bef792d",
   "metadata": {},
   "source": [
    "## Select features and K value"
   ]
  },
  {
   "cell_type": "code",
   "execution_count": 109,
   "id": "35ae1092",
   "metadata": {
    "scrolled": true
   },
   "outputs": [
    {
     "name": "stdout",
     "output_type": "stream",
     "text": [
      "最大準確率的特徵組合: ['acousticness', 'danceability', 'instrumentalness', 'speechiness', 'tempo']\n",
      "最大準確率: 0.6367836133843041\n",
      "最大準確率的K值: 15\n"
     ]
    }
   ],
   "source": [
    "from sklearn.neighbors import KNeighborsRegressor\n",
    "from sklearn.model_selection import train_test_split\n",
    "import pandas as pd\n",
    "import numpy as np\n",
    "import matplotlib.pyplot as plt\n",
    "from itertools import chain, combinations\n",
    "\n",
    "df = pd.read_csv(\"data_by_genres.csv\")\n",
    "\n",
    "y = np.array(df['popularity'])\n",
    "df = df.drop('genres', axis=1)\n",
    "df = df.drop('popularity', axis=1)\n",
    "\n",
    "### get all combinations of features (total: 4095)\n",
    "index = []\n",
    "def powerset(list_name):\n",
    "    s = list(list_name)\n",
    "    return chain.from_iterable(combinations(s, r) for r in range(len(s)+1))\n",
    "\n",
    "for x in powerset(df.columns):\n",
    "    index.append(list(x))\n",
    "\n",
    "X=[]\n",
    "for i in range(1,len(index)): #index[0] is empty\n",
    "    X.append(np.array(df[index[i]]))\n",
    "\n",
    "P_x = np.arange(1, 200, 2).tolist()\n",
    "V=[]\n",
    "feature_combinations = []\n",
    "accuracies = []\n",
    "k_values = []\n",
    "\n",
    "for i in range(1, len(X)):\n",
    "    feature_combinations.append(index[i])\n",
    "    accuracy_values = []\n",
    "    k_values_subset = []\n",
    "    \n",
    "    #print(f\"now i: {i}\")\n",
    "    \n",
    "    for j in range(1, 200, 2):\n",
    "        train_data, test_data, train_label, test_label = train_test_split(X[i], y, test_size=0.3)\n",
    "        knn = KNeighborsRegressor(n_neighbors=j)\n",
    "        knn.fit(train_data, train_label)\n",
    "        accuracy = knn.score(test_data, test_label)\n",
    "        accuracy_values.append(accuracy)\n",
    "        k_values_subset.append(j)\n",
    "  \n",
    "    accuracies.append(accuracy_values)\n",
    "    k_values.append(k_values_subset)\n",
    "\n",
    "accuracies = np.array(accuracies)\n",
    "max_accuracy_index = np.unravel_index(np.argmax(accuracies), accuracies.shape)\n",
    "max_accuracy_features = feature_combinations[max_accuracy_index[0]]\n",
    "max_accuracy = accuracies[max_accuracy_index[0]][max_accuracy_index[1]]\n",
    "best_k_value = k_values[max_accuracy_index[0]][max_accuracy_index[1]]\n",
    "\n",
    "print(\"最大準確率的特徵組合:\", max_accuracy_features)\n",
    "print(\"最大準確率:\", max_accuracy)\n",
    "print(\"最大準確率的K值:\", best_k_value)\n"
   ]
  },
  {
   "cell_type": "markdown",
   "id": "709c5c9f",
   "metadata": {},
   "source": [
    "### Feature selection\n",
    "- Selected features are: <font color=#bd3939>acousticness, danceability, instrumentalness, speechiness, tempo<font>\n",
    "- Selected K value is: <font color=#bd3939>15<font>"
   ]
  },
  {
   "cell_type": "markdown",
   "id": "097e63b7",
   "metadata": {},
   "source": [
    "### TEST"
   ]
  },
  {
   "cell_type": "code",
   "execution_count": 174,
   "id": "72c614c1",
   "metadata": {},
   "outputs": [
    {
     "name": "stdout",
     "output_type": "stream",
     "text": [
      "'alt z' doesn't exist in dataset.\n",
      "['indie poptimism', 'geek rock', 'dance pop', 'geek rock', 'latin talent show', 'british soul']\n"
     ]
    }
   ],
   "source": [
    "import pandas as pd\n",
    "from sklearn.preprocessing import StandardScaler\n",
    "from sklearn.neighbors import KNeighborsClassifier\n",
    "\n",
    "df = pd.read_csv('../data_by_genres.csv')\n",
    "\n",
    "# 使用選定的特徵 ['acousticness', 'danceability', 'instrumentalness', 'speechiness', 'tempo']\n",
    "features = ['acousticness', 'danceability', 'instrumentalness', 'speechiness', 'tempo']\n",
    "X = df[features].values\n",
    "y = df['genres'].values\n",
    "\n",
    "### 特徵標準化\n",
    "scaler = StandardScaler()\n",
    "X_scaled = scaler.fit_transform(X)\n",
    "\n",
    "knn = KNeighborsClassifier(n_neighbors=15)\n",
    "\n",
    "knn.fit(X_scaled, y)\n",
    "\n",
    "# 指定的音樂類型\n",
    "target = ['alt z', 'electropop', 'pop']\n",
    "\n",
    "\n",
    "\n",
    "# 預測最相關的3個genre\n",
    "ret_genres = []\n",
    "\n",
    "for i in range(len(target)):\n",
    "    try:\n",
    "        target_idx = list(df['genres']).index(target[i])\n",
    "        target_features = X_scaled[target_idx].reshape(1, -1)\n",
    "        nearest_neighbors = knn.kneighbors(target_features, n_neighbors=4, return_distance=False)\n",
    "\n",
    "        # 最相關的音樂類型\n",
    "        most_similar_genres = [y[i] for i in nearest_neighbors[0]]\n",
    "        for tmp in most_similar_genres[1:]:\n",
    "            ret_genres.append(tmp)\n",
    "\n",
    "        #ret_genres.append(most_similar_genres[1:])\n",
    "        #print(f'與{target[i]}最相近的三個音樂種類:', most_similar_genres[1:])\n",
    "    \n",
    "    except:\n",
    "        print(f\"'{target[i]}' doesn't exist in dataset.\")\n",
    "print(ret_genres)"
   ]
  }
 ],
 "metadata": {
  "kernelspec": {
   "display_name": "Python 3 (ipykernel)",
   "language": "python",
   "name": "python3"
  },
  "language_info": {
   "codemirror_mode": {
    "name": "ipython",
    "version": 3
   },
   "file_extension": ".py",
   "mimetype": "text/x-python",
   "name": "python",
   "nbconvert_exporter": "python",
   "pygments_lexer": "ipython3",
   "version": "3.8.15"
  }
 },
 "nbformat": 4,
 "nbformat_minor": 5
}
